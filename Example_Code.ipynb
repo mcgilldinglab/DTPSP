{
  "cells": [
    {
      "cell_type": "code",
      "execution_count": null,
      "metadata": {
        "cellView": "form",
        "colab": {
          "base_uri": "https://localhost:8080/"
        },
        "id": "kWeNcJxybsWe",
        "outputId": "bd4406e1-00ec-414f-8be1-50c7aee64b62"
      },
      "outputs": [
        {
          "name": "stdout",
          "output_type": "stream",
          "text": [
            "\u001b[33mWARNING: Skipping cupy-cuda115 as it is not installed.\u001b[0m\u001b[33m\n",
            "\u001b[2K   \u001b[90m━━━━━━━━━━━━━━━━━━━━━━━━━━━━━━━━━━━━━━━━\u001b[0m \u001b[32m96.6/96.6 MB\u001b[0m \u001b[31m7.4 MB/s\u001b[0m eta \u001b[36m0:00:00\u001b[0m\n",
            "\u001b[?25h  Preparing metadata (setup.py) ... \u001b[?25l\u001b[?25hdone\n",
            "\u001b[2K   \u001b[90m━━━━━━━━━━━━━━━━━━━━━━━━━━━━━━━━━━━━━━━━\u001b[0m \u001b[32m141.9/141.9 kB\u001b[0m \u001b[31m8.2 MB/s\u001b[0m eta \u001b[36m0:00:00\u001b[0m\n",
            "\u001b[2K   \u001b[90m━━━━━━━━━━━━━━━━━━━━━━━━━━━━━━━━━━━━━━━━\u001b[0m \u001b[32m3.1/3.1 MB\u001b[0m \u001b[31m27.1 MB/s\u001b[0m eta \u001b[36m0:00:00\u001b[0m\n",
            "\u001b[2K   \u001b[90m━━━━━━━━━━━━━━━━━━━━━━━━━━━━━━━━━━━━━━━━\u001b[0m \u001b[32m2.0/2.0 MB\u001b[0m \u001b[31m22.9 MB/s\u001b[0m eta \u001b[36m0:00:00\u001b[0m\n",
            "\u001b[2K   \u001b[90m━━━━━━━━━━━━━━━━━━━━━━━━━━━━━━━━━━━━━━━━\u001b[0m \u001b[32m56.9/56.9 kB\u001b[0m \u001b[31m4.4 MB/s\u001b[0m eta \u001b[36m0:00:00\u001b[0m\n",
            "\u001b[2K   \u001b[90m━━━━━━━━━━━━━━━━━━━━━━━━━━━━━━━━━━━━━━━━\u001b[0m \u001b[32m88.8/88.8 kB\u001b[0m \u001b[31m8.6 MB/s\u001b[0m eta \u001b[36m0:00:00\u001b[0m\n",
            "\u001b[2K   \u001b[90m━━━━━━━━━━━━━━━━━━━━━━━━━━━━━━━━━━━━━━━━\u001b[0m \u001b[32m2.1/2.1 MB\u001b[0m \u001b[31m78.9 MB/s\u001b[0m eta \u001b[36m0:00:00\u001b[0m\n",
            "\u001b[2K   \u001b[90m━━━━━━━━━━━━━━━━━━━━━━━━━━━━━━━━━━━━━━━━\u001b[0m \u001b[32m50.1/50.1 kB\u001b[0m \u001b[31m4.1 MB/s\u001b[0m eta \u001b[36m0:00:00\u001b[0m\n",
            "\u001b[2K   \u001b[90m━━━━━━━━━━━━━━━━━━━━━━━━━━━━━━━━━━━━━━━━\u001b[0m \u001b[32m83.6/83.6 kB\u001b[0m \u001b[31m7.9 MB/s\u001b[0m eta \u001b[36m0:00:00\u001b[0m\n",
            "\u001b[?25h  Building wheel for session-info (setup.py) ... \u001b[?25l\u001b[?25hdone\n"
          ]
        }
      ],
      "source": [
        "#@title Installs\n",
        "!pip uninstall cupy-cuda115 -q\n",
        "!pip install cupy-cuda11x -q\n",
        "!pip3 install scanpy[leiden] -q"
      ]
    },
    {
      "cell_type": "code",
      "execution_count": null,
      "metadata": {
        "cellView": "form",
        "colab": {
          "base_uri": "https://localhost:8080/"
        },
        "id": "fz-ehDOx4Wpx",
        "outputId": "058a6293-698a-4d8a-8740-741006550a37"
      },
      "outputs": [
        {
          "name": "stderr",
          "output_type": "stream",
          "text": [
            "/usr/local/lib/python3.10/dist-packages/cupy/_environment.py:540: UserWarning: \n",
            "--------------------------------------------------------------------------------\n",
            "\n",
            "  CuPy may not function correctly because multiple CuPy packages are installed\n",
            "  in your environment:\n",
            "\n",
            "    cupy-cuda11x, cupy-cuda12x\n",
            "\n",
            "  Follow these steps to resolve this issue:\n",
            "\n",
            "    1. For all packages listed above, run the following command to remove all\n",
            "       existing CuPy installations:\n",
            "\n",
            "         $ pip uninstall <package_name>\n",
            "\n",
            "      If you previously installed CuPy via conda, also run the following:\n",
            "\n",
            "         $ conda uninstall cupy\n",
            "\n",
            "    2. Install the appropriate CuPy package.\n",
            "       Refer to the Installation Guide for detailed instructions.\n",
            "\n",
            "         https://docs.cupy.dev/en/stable/install.html\n",
            "\n",
            "--------------------------------------------------------------------------------\n",
            "\n",
            "  warnings.warn(f'''\n"
          ]
        }
      ],
      "source": [
        "#@title Imports and Set Seed\n",
        "import numpy as np\n",
        "import pandas as pd\n",
        "import scanpy as sc\n",
        "import anndata as ad\n",
        "import scipy\n",
        "import seaborn as sns\n",
        "import matplotlib.pyplot as plt\n",
        "import matplotlib\n",
        "matplotlib.rcParams['pdf.fonttype']=42\n",
        "\n",
        "from matplotlib import font_manager\n",
        "plt.rcParams['font.size'] = 7\n",
        "\n",
        "import math\n",
        "import random\n",
        "from random import randrange\n",
        "import itertools\n",
        "\n",
        "from sklearn.neighbors import NearestNeighbors\n",
        "from sklearn.model_selection import train_test_split\n",
        "from sklearn.preprocessing import MinMaxScaler, StandardScaler, RobustScaler\n",
        "\n",
        "import torch\n",
        "import torch.nn as nn\n",
        "import torch.optim as optim\n",
        "from torch.utils.data import Dataset, DataLoader, random_split, Subset\n",
        "\n",
        "from google.colab import drive # Import if using Google Colab\n",
        "\n",
        "\n",
        "def weight_init_seed(seed):\n",
        "  torch.manual_seed(seed)\n",
        "  torch.cuda.manual_seed(seed)\n",
        "  torch.cuda.manual_seed_all(seed)\n",
        "  np.random.seed(seed)\n",
        "  random.seed(seed)\n",
        "\n",
        "  torch.backends.cudnn.deterministic = True\n",
        "  torch.backends.cudnn.benchmark = False\n",
        "\n",
        "weight_init_seed(6631)"
      ]
    },
    {
      "cell_type": "markdown",
      "metadata": {
        "id": "KEeVKIxr83FW"
      },
      "source": [
        "# Create Pseudobulk"
      ]
    },
    {
      "cell_type": "code",
      "execution_count": null,
      "metadata": {
        "colab": {
          "base_uri": "https://localhost:8080/"
        },
        "collapsed": true,
        "id": "Ya9fXsU889tu",
        "outputId": "e67bc6d4-db4a-46eb-f830-3e35908e2eb4"
      },
      "outputs": [
        {
          "name": "stderr",
          "output_type": "stream",
          "text": [
            "/usr/local/lib/python3.10/dist-packages/anndata/_core/anndata.py:1758: UserWarning: Variable names are not unique. To make them unique, call `.var_names_make_unique`.\n",
            "  utils.warn_names_duplicates(\"var\")\n",
            "/usr/local/lib/python3.10/dist-packages/anndata/_core/anndata.py:1758: UserWarning: Variable names are not unique. To make them unique, call `.var_names_make_unique`.\n",
            "  utils.warn_names_duplicates(\"var\")\n",
            "/usr/local/lib/python3.10/dist-packages/anndata/_core/anndata.py:1758: UserWarning: Variable names are not unique. To make them unique, call `.var_names_make_unique`.\n",
            "  utils.warn_names_duplicates(\"var\")\n",
            "/usr/local/lib/python3.10/dist-packages/anndata/_core/anndata.py:1758: UserWarning: Variable names are not unique. To make them unique, call `.var_names_make_unique`.\n",
            "  utils.warn_names_duplicates(\"var\")\n",
            "/usr/local/lib/python3.10/dist-packages/anndata/_core/anndata.py:1758: UserWarning: Variable names are not unique. To make them unique, call `.var_names_make_unique`.\n",
            "  utils.warn_names_duplicates(\"var\")\n",
            "/usr/local/lib/python3.10/dist-packages/anndata/_core/anndata.py:1758: UserWarning: Variable names are not unique. To make them unique, call `.var_names_make_unique`.\n",
            "  utils.warn_names_duplicates(\"var\")\n",
            "/usr/local/lib/python3.10/dist-packages/anndata/_core/anndata.py:1758: UserWarning: Variable names are not unique. To make them unique, call `.var_names_make_unique`.\n",
            "  utils.warn_names_duplicates(\"var\")\n"
          ]
        }
      ],
      "source": [
        "# Read in data\n",
        "t0 = sc.read_10x_h5(\"/content/drive/MyDrive/Ding Lab/Data/GSM4504959_E12.5_filtered_gene_bc_matrices.h5\")\n",
        "t1 = sc.read_10x_h5(\"/content/drive/MyDrive/Ding Lab/Data/GSM4504960_E15.5_filtered_gene_bc_matrices.h5\")\n",
        "t2 = sc.read_10x_h5(\"/content/drive/MyDrive/Ding Lab/Data/GSM4504961_E17.5_filtered_gene_bc_matrices.h5\")\n",
        "t3 = sc.read_10x_h5(\"/content/drive/MyDrive/Ding Lab/Data/GSM4504962_P3_filtered_gene_bc_matrices.h5\")\n",
        "t4 = sc.read_10x_h5(\"/content/drive/MyDrive/Ding Lab/Data/GSM4504963_P7_filtered_gene_bc_matrices.h5\")\n",
        "t5 = sc.read_10x_h5(\"/content/drive/MyDrive/Ding Lab/Data/GSM4504964_P15_filtered_gene_bc_matrices.h5\")\n",
        "t6 = sc.read_10x_h5(\"/content/drive/MyDrive/Ding Lab/Data/GSM4504965_P42_filtered_gene_bc_matrices.h5\")\n",
        "\n",
        "t0.var_names_make_unique()\n",
        "t1.var_names_make_unique()\n",
        "t2.var_names_make_unique()\n",
        "t3.var_names_make_unique()\n",
        "t4.var_names_make_unique()\n",
        "t5.var_names_make_unique()\n",
        "t6.var_names_make_unique()\n",
        "\n",
        "t0.var['original_index'] = range(len(t0.var))\n",
        "t1.var['original_index'] = range(len(t0.var))\n",
        "t2.var['original_index'] = range(len(t0.var))\n",
        "t3.var['original_index'] = range(len(t0.var))\n",
        "t4.var['original_index'] = range(len(t0.var))\n",
        "t5.var['original_index'] = range(len(t0.var))\n",
        "t6.var['original_index'] = range(len(t0.var))\n",
        "\n",
        "sc.pp.filter_cells(t0, min_genes=100)\n",
        "sc.pp.filter_cells(t1, min_genes=100)\n",
        "sc.pp.filter_cells(t2, min_genes=100)\n",
        "sc.pp.filter_cells(t3, min_genes=100)\n",
        "sc.pp.filter_cells(t4, min_genes=100)\n",
        "sc.pp.filter_cells(t5, min_genes=100)\n",
        "sc.pp.filter_cells(t6, min_genes=100)\n",
        "\n",
        "sc.pp.filter_genes(t0, min_cells=3)\n",
        "sc.pp.filter_genes(t1, min_cells=3)\n",
        "sc.pp.filter_genes(t2, min_cells=3)\n",
        "sc.pp.filter_genes(t3, min_cells=3)\n",
        "sc.pp.filter_genes(t4, min_cells=3)\n",
        "sc.pp.filter_genes(t5, min_cells=3)\n",
        "sc.pp.filter_genes(t6, min_cells=3)\n",
        "\n",
        "h5_files = [t0, t1, t2, t3, t4, t5, t6]\n",
        "pseudo_bulks = []"
      ]
    },
    {
      "cell_type": "code",
      "execution_count": null,
      "metadata": {
        "id": "aSo21ui-NdbH"
      },
      "outputs": [],
      "source": [
        "# Find common genes (intersection of .var.index across all time points)\n",
        "common_genes = set(h5_files[0].var.index)\n",
        "for adata in h5_files[1:]:\n",
        "    common_genes.intersection_update(adata.var.index)\n",
        "\n",
        "new_gene_series = t0.var.loc[list(common_genes)]\n",
        "gene_index_list = new_gene_series['original_index'].tolist()"
      ]
    },
    {
      "cell_type": "code",
      "execution_count": null,
      "metadata": {
        "colab": {
          "base_uri": "https://localhost:8080/"
        },
        "id": "OLecKgxLN_YB",
        "outputId": "abec2904-d303-4c5c-fd76-2692dcfd3afe"
      },
      "outputs": [
        {
          "name": "stderr",
          "output_type": "stream",
          "text": [
            "/usr/local/lib/python3.10/dist-packages/anndata/_core/anndata.py:1758: UserWarning: Variable names are not unique. To make them unique, call `.var_names_make_unique`.\n",
            "  utils.warn_names_duplicates(\"var\")\n",
            "/usr/local/lib/python3.10/dist-packages/anndata/_core/anndata.py:1758: UserWarning: Variable names are not unique. To make them unique, call `.var_names_make_unique`.\n",
            "  utils.warn_names_duplicates(\"var\")\n",
            "/usr/local/lib/python3.10/dist-packages/anndata/_core/anndata.py:1758: UserWarning: Variable names are not unique. To make them unique, call `.var_names_make_unique`.\n",
            "  utils.warn_names_duplicates(\"var\")\n",
            "/usr/local/lib/python3.10/dist-packages/anndata/_core/anndata.py:1758: UserWarning: Variable names are not unique. To make them unique, call `.var_names_make_unique`.\n",
            "  utils.warn_names_duplicates(\"var\")\n",
            "/usr/local/lib/python3.10/dist-packages/anndata/_core/anndata.py:1758: UserWarning: Variable names are not unique. To make them unique, call `.var_names_make_unique`.\n",
            "  utils.warn_names_duplicates(\"var\")\n",
            "/usr/local/lib/python3.10/dist-packages/anndata/_core/anndata.py:1758: UserWarning: Variable names are not unique. To make them unique, call `.var_names_make_unique`.\n",
            "  utils.warn_names_duplicates(\"var\")\n",
            "/usr/local/lib/python3.10/dist-packages/anndata/_core/anndata.py:1758: UserWarning: Variable names are not unique. To make them unique, call `.var_names_make_unique`.\n",
            "  utils.warn_names_duplicates(\"var\")\n",
            "/usr/local/lib/python3.10/dist-packages/anndata/_core/anndata.py:1758: UserWarning: Variable names are not unique. To make them unique, call `.var_names_make_unique`.\n",
            "  utils.warn_names_duplicates(\"var\")\n",
            "/usr/local/lib/python3.10/dist-packages/anndata/_core/anndata.py:1758: UserWarning: Variable names are not unique. To make them unique, call `.var_names_make_unique`.\n",
            "  utils.warn_names_duplicates(\"var\")\n",
            "/usr/local/lib/python3.10/dist-packages/anndata/_core/anndata.py:1758: UserWarning: Variable names are not unique. To make them unique, call `.var_names_make_unique`.\n",
            "  utils.warn_names_duplicates(\"var\")\n",
            "/usr/local/lib/python3.10/dist-packages/anndata/_core/anndata.py:1758: UserWarning: Variable names are not unique. To make them unique, call `.var_names_make_unique`.\n",
            "  utils.warn_names_duplicates(\"var\")\n",
            "/usr/local/lib/python3.10/dist-packages/anndata/_core/anndata.py:1758: UserWarning: Variable names are not unique. To make them unique, call `.var_names_make_unique`.\n",
            "  utils.warn_names_duplicates(\"var\")\n",
            "/usr/local/lib/python3.10/dist-packages/anndata/_core/anndata.py:1758: UserWarning: Variable names are not unique. To make them unique, call `.var_names_make_unique`.\n",
            "  utils.warn_names_duplicates(\"var\")\n",
            "/usr/local/lib/python3.10/dist-packages/anndata/_core/anndata.py:1758: UserWarning: Variable names are not unique. To make them unique, call `.var_names_make_unique`.\n",
            "  utils.warn_names_duplicates(\"var\")\n"
          ]
        }
      ],
      "source": [
        "t0 = sc.read_10x_h5(\"/content/drive/MyDrive/Ding Lab/Data/GSM4504959_E12.5_filtered_gene_bc_matrices.h5\")\n",
        "t1 = sc.read_10x_h5(\"/content/drive/MyDrive/Ding Lab/Data/GSM4504960_E15.5_filtered_gene_bc_matrices.h5\")\n",
        "t2 = sc.read_10x_h5(\"/content/drive/MyDrive/Ding Lab/Data/GSM4504961_E17.5_filtered_gene_bc_matrices.h5\")\n",
        "t3 = sc.read_10x_h5(\"/content/drive/MyDrive/Ding Lab/Data/GSM4504962_P3_filtered_gene_bc_matrices.h5\")\n",
        "t4 = sc.read_10x_h5(\"/content/drive/MyDrive/Ding Lab/Data/GSM4504963_P7_filtered_gene_bc_matrices.h5\")\n",
        "t5 = sc.read_10x_h5(\"/content/drive/MyDrive/Ding Lab/Data/GSM4504964_P15_filtered_gene_bc_matrices.h5\")\n",
        "t6 = sc.read_10x_h5(\"/content/drive/MyDrive/Ding Lab/Data/GSM4504965_P42_filtered_gene_bc_matrices.h5\")\n",
        "\n",
        "t0.var['original_index'] = range(len(t0.var))\n",
        "t1.var['original_index'] = range(len(t0.var))\n",
        "t2.var['original_index'] = range(len(t0.var))\n",
        "t3.var['original_index'] = range(len(t0.var))\n",
        "t4.var['original_index'] = range(len(t0.var))\n",
        "t5.var['original_index'] = range(len(t0.var))\n",
        "t6.var['original_index'] = range(len(t0.var))\n",
        "\n",
        "sc.pp.filter_cells(t0, min_genes=100)\n",
        "sc.pp.filter_cells(t1, min_genes=100)\n",
        "sc.pp.filter_cells(t2, min_genes=100)\n",
        "sc.pp.filter_cells(t3, min_genes=100)\n",
        "sc.pp.filter_cells(t4, min_genes=100)\n",
        "sc.pp.filter_cells(t5, min_genes=100)\n",
        "sc.pp.filter_cells(t6, min_genes=100)\n",
        "\n",
        "t0.var_names_make_unique()\n",
        "t1.var_names_make_unique()\n",
        "t2.var_names_make_unique()\n",
        "t3.var_names_make_unique()\n",
        "t4.var_names_make_unique()\n",
        "t5.var_names_make_unique()\n",
        "t6.var_names_make_unique()\n",
        "\n",
        "old_h5_files = [t0, t1, t2, t3, t4, t5, t6]\n",
        "h5_files = []\n",
        "copies = []"
      ]
    },
    {
      "cell_type": "code",
      "execution_count": null,
      "metadata": {
        "colab": {
          "base_uri": "https://localhost:8080/"
        },
        "id": "0dqx6oQwORch",
        "outputId": "4a8f907c-cbd4-4235-a5b5-fd772ee6a17e"
      },
      "outputs": [
        {
          "name": "stderr",
          "output_type": "stream",
          "text": [
            "/usr/local/lib/python3.10/dist-packages/anndata/_core/storage.py:39: ImplicitModificationWarning: X should not be a np.matrix, use np.ndarray instead.\n",
            "  warnings.warn(msg, ImplicitModificationWarning)\n"
          ]
        }
      ],
      "source": [
        "for ti in old_h5_files:\n",
        "    filtered_X = ti.X.todense()[:, gene_index_list]\n",
        "\n",
        "    new_adata = ad.AnnData(filtered_X, obs=ti.obs, var=new_gene_series)\n",
        "\n",
        "    h5_files.append(new_adata)"
      ]
    },
    {
      "cell_type": "code",
      "execution_count": null,
      "metadata": {
        "id": "yOLdME9IPli1"
      },
      "outputs": [],
      "source": [
        "t0, t1, t2, t3, t4, t5, t6 = h5_files"
      ]
    },
    {
      "cell_type": "code",
      "execution_count": null,
      "metadata": {
        "id": "yyeY5xzXq6yJ"
      },
      "outputs": [],
      "source": [
        "def pseudo_bulk(h5_file):\n",
        "  '''\n",
        "  Creates pseudobulk of h5 file. Takes average of a single gene across all cells.\n",
        "  '''\n",
        "  sc.pp.normalize_total(h5_file, target_sum=1e4)  # Normalize single-cell data\n",
        "\n",
        "  h5_file.X[h5_file.X < 10] = 0  # Threshold at < 10\n",
        "\n",
        "  sc.pp.normalize_total(h5_file, target_sum=1e4) # Normalize again\n",
        "\n",
        "  pseudobulk_h5_file = np.asarray(h5_file.X.mean(axis=0)).flatten() # Avg\n",
        "\n",
        "  pseudobulk_h5_file = np.log1p(pseudobulk_h5_file) # Log1p\n",
        "\n",
        "  return pseudobulk_h5_file"
      ]
    },
    {
      "cell_type": "code",
      "execution_count": null,
      "metadata": {
        "id": "V-8wHc-Rjzcp"
      },
      "outputs": [],
      "source": [
        "def create_pseudo_bulk(h5_files):\n",
        "  '''\n",
        "  Generates pseudobulk from all time-stamps\n",
        "  '''\n",
        "  pseudo_bulks = []\n",
        "  for h5_file in h5_files:\n",
        "    pseudo_h5 = pseudo_bulk(h5_file)\n",
        "    pseudo_bulks.append(pseudo_h5)\n",
        "\n",
        "  return np.array(pseudo_bulks)"
      ]
    },
    {
      "cell_type": "code",
      "execution_count": null,
      "metadata": {
        "id": "TO79M0F1-Wly"
      },
      "outputs": [],
      "source": [
        "obs_names = {} # For .obs of bulk AnnData object\n",
        "for i in range(len(h5_files)): # 7\n",
        "  obs_names[i] = \"TimeStamp\" + str(i)\n",
        "obs_frame = pd.DataFrame(list(obs_names.items()), columns=['Index', 'TimeStamp'])"
      ]
    },
    {
      "cell_type": "code",
      "execution_count": null,
      "metadata": {
        "colab": {
          "base_uri": "https://localhost:8080/"
        },
        "id": "Gf1BMXxjDCJv",
        "outputId": "4e1106db-3388-4ff6-9f2b-5db741347355"
      },
      "outputs": [
        {
          "name": "stderr",
          "output_type": "stream",
          "text": [
            "/usr/local/lib/python3.10/dist-packages/anndata/_core/aligned_df.py:68: ImplicitModificationWarning: Transforming to str index.\n",
            "  warnings.warn(\"Transforming to str index.\", ImplicitModificationWarning)\n"
          ]
        }
      ],
      "source": [
        "# Create bulk object\n",
        "bulks = create_pseudo_bulk(h5_files)\n",
        "bulks_adata = ad.AnnData(bulks, obs=obs_frame, var=h5_files[0].var)\n",
        "sc.pp.highly_variable_genes(bulks_adata, n_top_genes=6000, subset=True)"
      ]
    },
    {
      "cell_type": "code",
      "execution_count": null,
      "metadata": {
        "id": "spQOEKGWx9RK"
      },
      "outputs": [],
      "source": [
        "# Add names of files\n",
        "bulks_adata.obs['files'] = ['GSM4504959_E12.5_filtered_gene_bc_matrices.h5', 'GSM4504960_E15.5_filtered_gene_bc_matrices.h5',\n",
        "                            'GSM4504961_E17.5_filtered_gene_bc_matrices.h5', 'GSM4504962_P3_filtered_gene_bc_matrices.h5',\n",
        "                            'GSM4504963_P7_filtered_gene_bc_matrices.h5', 'GSM4504964_P15_filtered_gene_bc_matrices.h5',\n",
        "                            'GSM4504965_P42_filtered_gene_bc_matrices.h5']"
      ]
    },
    {
      "cell_type": "code",
      "execution_count": null,
      "metadata": {
        "id": "oqE3EWhCW0P0"
      },
      "outputs": [],
      "source": [
        "def pick_gene(gene_no, gene_database=bulks_adata):\n",
        "  return gene_database.X[:, gene_no]"
      ]
    },
    {
      "cell_type": "code",
      "execution_count": null,
      "metadata": {
        "id": "iq8VLu3LRXDR"
      },
      "outputs": [],
      "source": [
        "# Look at time series patterns of a selected gene\n",
        "gene_timeseries = pick_gene(0)\n",
        "def plot_geneseries(gene):\n",
        "  length = [x for x in range(len(gene))]\n",
        "  plt.plot(length, gene)\n",
        "  plt.xlabel('Time')\n",
        "  plt.ylabel('Gene Expression')\n",
        "\n",
        "# plot_geneseries(gene_timeseries)"
      ]
    },
    {
      "cell_type": "markdown",
      "metadata": {
        "id": "Obrg0jI4jTEQ"
      },
      "source": [
        "# Model"
      ]
    },
    {
      "cell_type": "markdown",
      "metadata": {
        "id": "-hQlEDawFT7-"
      },
      "source": [
        "### KNN Function\n",
        "Find neighboring genes\n",
        "\n",
        "[Documentation](https://scikit-learn.org/stable/modules/generated/sklearn.neighbors.KNeighborsClassifier.html)"
      ]
    },
    {
      "cell_type": "code",
      "execution_count": null,
      "metadata": {
        "id": "YcI5weWpjUlp"
      },
      "outputs": [],
      "source": [
        "k = 15\n",
        "k += 1\n",
        "neighbors = NearestNeighbors(n_neighbors=k) # k = x, x-1 neighbors\n",
        "neighbors.fit(bulks_adata.X.T)\n",
        "\n",
        "def find_neighbors(g, neighbors_func=neighbors, gene_database=bulks_adata):\n",
        "  neighbor_arr = neighbors_func.kneighbors([g])\n",
        "  return neighbor_arr[1][0][1:]"
      ]
    },
    {
      "cell_type": "code",
      "execution_count": null,
      "metadata": {
        "colab": {
          "base_uri": "https://localhost:8080/"
        },
        "id": "TYh_ReuzYhfJ",
        "outputId": "cd0554af-b98d-424e-9183-af42aeee9c4c"
      },
      "outputs": [
        {
          "data": {
            "image/png": "[encoded data removed]",
            "text/plain": [
              "<Figure size 640x480 with 1 Axes>"
            ]
          },
          "metadata": {},
          "output_type": "display_data"
        }
      ],
      "source": [
        "# Check, do the time series looks similar?\n",
        "gene_0 = pick_gene(0)\n",
        "gene0_neighbors = find_neighbors(gene_0)\n",
        "plot_geneseries(pick_gene(gene0_neighbors[1]))"
      ]
    },
    {
      "cell_type": "markdown",
      "metadata": {
        "id": "XUuDLbdo1454"
      },
      "source": [
        "### Data Preprocessing"
      ]
    },
    {
      "cell_type": "code",
      "execution_count": null,
      "metadata": {
        "collapsed": true,
        "id": "lB73mZ5CcA0y"
      },
      "outputs": [],
      "source": [
        "# Format input for NN\n",
        "def format_input(g, gene_database=bulks_adata): # Shape input to our desired format: [g1,...,gt,n1,...,nt,1,2,...,t]\n",
        "  \"\"\"\n",
        "    format_input formats the input for the NN\n",
        "\n",
        "    :param g: Gene expression values for single gene g\n",
        "    :param gene_database: Database to pull gene expressions from\n",
        "\n",
        "    :return: Formatted input, with genes and neighbors as features\n",
        "  \"\"\"\n",
        "  neighbors = find_neighbors(g, gene_database=gene_database) # Get indices of all neighbors of g\n",
        "  input = np.array(g)\n",
        "\n",
        "  for n in neighbors:\n",
        "    neighbor_gene = np.array(pick_gene(n))\n",
        "    input = np.concatenate((input, neighbor_gene), axis=None) # Concat neighbors with original gene\n",
        "\n",
        "  return input\n",
        "\n",
        "# gene0 = format_input(pick_gene(0))"
      ]
    },
    {
      "cell_type": "code",
      "execution_count": null,
      "metadata": {
        "id": "cefF_f7wFo5A"
      },
      "outputs": [],
      "source": [
        "all_inputs = [] # All inputs, formatted, not scaled\n",
        "\n",
        "time_embeddings = [x for x in range(bulks_adata.obs.shape[0])]\n",
        "\n",
        "for i in range( int(len(bulks_adata.var)) ):\n",
        "  # Pick gene and format the input\n",
        "  gene_i = pick_gene(i)\n",
        "  formatted_input = format_input(gene_i)\n",
        "\n",
        "  all_inputs.append(formatted_input)"
      ]
    },
    {
      "cell_type": "code",
      "execution_count": null,
      "metadata": {
        "id": "VWdRwS30TiUq"
      },
      "outputs": [],
      "source": [
        "# Masking mechanism\n",
        "def mask(time_points, input, mask_value=np.NINF, gene_database=bulks_adata): # Time points start form 0. Time points is of type array\n",
        "  \"\"\"\n",
        "    mask is function to mask inputs\n",
        "\n",
        "    :param time_points: Array. What time points to mask\n",
        "    :param input: Input array to be masked\n",
        "    :param gene_database: Database to pull gene expressions from\n",
        "\n",
        "    :return: Masked array and masked values separately. Masked array has masked index appended to end.\n",
        "  \"\"\"\n",
        "  new_arr = input.copy()\n",
        "  max_timepoints = bulks_adata.obs.shape[0]\n",
        "  masked = []\n",
        "\n",
        "  first_y = []\n",
        "\n",
        "  for n in range(len(input)):\n",
        "    ts_mask = n % max_timepoints\n",
        "\n",
        "    if ts_mask in time_points: # Mask each time-point for every neighbour\n",
        "      masked.append(new_arr[n])\n",
        "\n",
        "      if ts_mask == time_points[0]:\n",
        "        first_y.append(new_arr[n])\n",
        "\n",
        "      new_arr[n] = mask_value  # Masked with -inf by default\n",
        "\n",
        "  new_arr = np.append(new_arr, time_points[0])\n",
        "\n",
        "  return new_arr, first_y\n",
        "\n",
        "# test, masked = mask([2, 1, 3], gene0)\n",
        "# print(gene0)\n",
        "# print(test, masked)"
      ]
    },
    {
      "cell_type": "code",
      "execution_count": null,
      "metadata": {
        "id": "4b8WHQO8LSWx"
      },
      "outputs": [],
      "source": [
        "X_train_note, X_test_note = train_test_split(all_inputs, train_size=0.8, shuffle=True) # 80/20 Split all inputs"
      ]
    },
    {
      "cell_type": "code",
      "execution_count": null,
      "metadata": {
        "id": "hGVPvGB7Icvv"
      },
      "outputs": [],
      "source": [
        "all_data = [] # Append time embeddings\n",
        "for i in range(len(X_train_note)):\n",
        "  all_data.append( np.append(X_train_note[i], time_embeddings) )\n",
        "\n",
        "for i in range( len(X_test_note) ):\n",
        "  all_data.append( np.append(X_test_note[i], time_embeddings) )"
      ]
    },
    {
      "cell_type": "code",
      "execution_count": null,
      "metadata": {
        "id": "YNxpuGRLnVyy"
      },
      "outputs": [],
      "source": [
        "X_train = []\n",
        "X_test = []\n",
        "\n",
        "for i in range(int(len(all_data) * 0.8)): # 80%, 20% split\n",
        "  X_train.append( all_data[i] )\n",
        "\n",
        "for i in range(int(len(all_data) * 0.8)+1, len(all_data)):\n",
        "  X_test.append( all_data[i] )"
      ]
    },
    {
      "cell_type": "code",
      "execution_count": null,
      "metadata": {
        "id": "s7CQWvVzoRCF"
      },
      "outputs": [],
      "source": [
        "time_embeddings=[0, 1, 2, 3, 4, 5, 6]"
      ]
    },
    {
      "cell_type": "code",
      "execution_count": null,
      "metadata": {
        "id": "2fa-fBw0Ewxu"
      },
      "outputs": [],
      "source": [
        "def generate_combintations(n, time_points=time_embeddings):\n",
        "  \"\"\"\n",
        "    generate_combintations generates combinations for masking of time points of length n.\n",
        "    First element is masked and to be predicted, rest are masked.\n",
        "    Function generates special kind of permutation where only order of first element matters.\n",
        "\n",
        "    :param time_points: Max number of time points\n",
        "    :param n: Length of combination (number of time points to mask)\n",
        "\n",
        "    :return: List of combinations\n",
        "  \"\"\"\n",
        "  combinations = []\n",
        "  to_skip = int(math.factorial(n-1))-1 # Want only permutations where first number is different, skip the rest\n",
        "  skipped = to_skip\n",
        "\n",
        "  # time_array = [x for x in range(time_points)]\n",
        "\n",
        "  for comb in itertools.combinations(time_points, n): # Generate combinations of length n\n",
        "    to_avg = [] # Group together permutations that will be averaged in the end\n",
        "\n",
        "    for permutation in list(itertools.permutations(comb)): # Generate permutations of those combinations\n",
        "      if skipped > 0: # Dont want all permutations\n",
        "        skipped -= 1\n",
        "        continue\n",
        "\n",
        "      to_avg.append(list(permutation))\n",
        "\n",
        "      skipped = to_skip\n",
        "\n",
        "    combinations.append(to_avg)\n",
        "\n",
        "    # e.g. combinations[0] has lists of size n. Caluclate MAE for predictions of all of them, take average.\n",
        "\n",
        "  return combinations\n",
        "# generate_combintations(3)"
      ]
    },
    {
      "cell_type": "code",
      "execution_count": null,
      "metadata": {
        "id": "7_zDbCtgx2uw"
      },
      "outputs": [],
      "source": [
        "def gen_loader(X_train, n):\n",
        "  '''\n",
        "  Generate training for Regressor NN\n",
        "  '''\n",
        "  X_train_loader = []\n",
        "  i = 0\n",
        "  while i < len(X_train)-1:\n",
        "\n",
        "    for comb in generate_combintations(n):\n",
        "      loader = []\n",
        "      for seq in comb:\n",
        "\n",
        "        if i > len(X_train)-1:\n",
        "          break\n",
        "\n",
        "        masked, y = mask(seq, X_train[i])\n",
        "        masked, y = torch.tensor(masked, dtype=torch.float32), torch.tensor(y[0], dtype=torch.float32)\n",
        "        arr = [masked, y]\n",
        "\n",
        "        loader.append(arr)\n",
        "\n",
        "      X_train_loader.append(loader)\n",
        "      i += 1\n",
        "\n",
        "  return X_train_loader"
      ]
    },
    {
      "cell_type": "code",
      "execution_count": null,
      "metadata": {
        "id": "RNFhVYPh1I0x"
      },
      "outputs": [],
      "source": [
        "X_train_loader = []\n",
        "AE_train_loader = []\n",
        "AE_test_loader = []\n",
        "\n",
        "for i in range(1, len(time_embeddings)):\n",
        "  random.shuffle(X_train)\n",
        "  gen_i = gen_loader(X_train, i)\n",
        "\n",
        "  X_train_loader.extend( gen_i )\n",
        "\n",
        "  random.shuffle(gen_i)\n",
        "\n",
        "  for j in gen_i[:len(gen_i)//2]:\n",
        "    AE_train_loader.extend( j )\n",
        "\n",
        "  random.shuffle(X_test)\n",
        "  gen_i_test = gen_loader(X_test, i)\n",
        "  random.shuffle(gen_i_test)\n",
        "\n",
        "  for t in gen_i_test:\n",
        "    AE_test_loader.extend( t )\n",
        "\n",
        "random.shuffle(X_train_loader)\n",
        "random.shuffle(AE_train_loader)"
      ]
    },
    {
      "cell_type": "code",
      "execution_count": null,
      "metadata": {
        "id": "tb7k-gfN_b0e"
      },
      "outputs": [],
      "source": [
        "class GeneDatasetAE(torch.utils.data.Dataset):\n",
        "  # Characterizes a dataset for PyTorch\n",
        "  def __init__(self, X):\n",
        "        # self.genes = genes\n",
        "        self.X = X\n",
        "        # self.X = torch.tensor(X, dtype=torch.float32)\n",
        "        # self.y = y.detach().clone()\n",
        "\n",
        "  def __len__(self):\n",
        "        return len(self.X)\n",
        "\n",
        "  def __getitem__(self, index):\n",
        "        # Generates one sample of data\n",
        "        gene = self.X[index]\n",
        "\n",
        "        return gene"
      ]
    },
    {
      "cell_type": "code",
      "execution_count": null,
      "metadata": {
        "id": "i0FLXUTq_djo"
      },
      "outputs": [],
      "source": [
        "AEgeneTrainSet = GeneDatasetAE(AE_train_loader)\n",
        "AE_train_loader_x = DataLoader(AEgeneTrainSet, shuffle=True, batch_size=3)\n",
        "\n",
        "AEgeneTestSet = GeneDatasetAE(AE_train_loader)\n",
        "AE_test_loader_X = DataLoader(AEgeneTestSet, shuffle=True, batch_size=3)"
      ]
    },
    {
      "cell_type": "markdown",
      "metadata": {
        "id": "cWo2TVkPpq4-"
      },
      "source": [
        "### AutoEncoder + NN"
      ]
    },
    {
      "cell_type": "code",
      "execution_count": 58,
      "metadata": {
        "id": "7BByg5dKpt-o"
      },
      "outputs": [],
      "source": [
        "class HybridNN(nn.Module):\n",
        "    def __init__(self, input_size, output_size):\n",
        "        super().__init__()\n",
        "        self.encoder = nn.Sequential(\n",
        "            nn.Linear(input_size, 128),\n",
        "            nn.ReLU(),\n",
        "            nn.Linear(128, output_size),\n",
        "        )\n",
        "\n",
        "        self.decoder = nn.Sequential(\n",
        "            nn.Linear(output_size, 128),\n",
        "            nn.ReLU(),\n",
        "            nn.Linear(128, input_size),\n",
        "            nn.ReLU()\n",
        "        )\n",
        "\n",
        "        self.regressor = nn.Sequential(\n",
        "            nn.Linear(output_size, 64),\n",
        "            nn.ReLU(),\n",
        "            nn.Linear(64, 32),\n",
        "            nn.ReLU(),\n",
        "            nn.Dropout(0.2),\n",
        "            nn.Linear(32, 1),\n",
        "            nn.ReLU()\n",
        "        )\n",
        "\n",
        "    def forward(self, x):\n",
        "        # AutoEncoder\n",
        "        z = self.encoder(x)\n",
        "        decoded = self.decoder(z)\n",
        "\n",
        "        # Regressor NN\n",
        "        regression = self.regressor(z)\n",
        "\n",
        "        return decoded, regression"
      ]
    },
    {
      "cell_type": "code",
      "execution_count": 59,
      "metadata": {
        "id": "uobdvNmuy2aj"
      },
      "outputs": [],
      "source": [
        "def custom_loss(y_pred, y, loss_fn):\n",
        "  '''\n",
        "  Skip over masked values in the calculation. This is done for AE phase\n",
        "  '''\n",
        "  mask = ~torch.isinf(y) # True if not infinity\n",
        "  return loss_fn(y_pred[mask], y[mask])"
      ]
    },
    {
      "cell_type": "code",
      "execution_count": 60,
      "metadata": {
        "id": "b0BS-biARKB0"
      },
      "outputs": [],
      "source": [
        "dim_reduction_size = 64\n",
        "hybrid_model = HybridNN((k+1) * len(time_embeddings) + 1, dim_reduction_size)\n",
        "\n",
        "loss_MSE = nn.MSELoss() # For AutoEncoder\n",
        "loss_MAE = nn.L1Loss(reduction='none') # For Regressor\n",
        "\n",
        "# Stage 1: AE\n",
        "optimizer_enc = optim.Adam(hybrid_model.encoder.parameters(), lr=0.001, weight_decay=0.0001)\n",
        "optimizer_dec = optim.Adam(hybrid_model.decoder.parameters(), lr=0.001, weight_decay=0.0001)\n",
        "\n",
        "# Stage 2: Regressor\n",
        "optimizer_reg = optim.SGD(hybrid_model.regressor.parameters(), lr=0.001, momentum=0.9)\n",
        "scheduler_reg = optim.lr_scheduler.ExponentialLR(optimizer_reg, gamma=0.9)\n",
        "\n",
        "# Stage 3: Both\n",
        "optimizer_both = optim.SGD(hybrid_model.parameters(), lr=0.0001, momentum=0.9) # Decrease learning rate when training in stage 3\n",
        "scheduler_both = optim.lr_scheduler.ExponentialLR(optimizer_both, gamma=0.9)\n",
        "\n",
        "optimizers = [optimizer_enc, optimizer_dec, optimizer_reg, optimizer_both]"
      ]
    },
    {
      "cell_type": "code",
      "execution_count": 61,
      "metadata": {
        "id": "H-CI_lKFVJus"
      },
      "outputs": [],
      "source": [
        "def train_hybridNN_0mask(hyb_model, loader1, loader2, optimizers, loss_fn1, loss_fn2, custom_loss, epochs):\n",
        "  '''\n",
        "  Train model in 3 phases:\n",
        "    1. AutoEncoder\n",
        "    2. Regressor\n",
        "    3. Both\n",
        "\n",
        "    Learning rate is decreased in phase 3\n",
        "  '''\n",
        "  optimizer_enc, optimizer_dec, optimizer_reg, optimizer_both = optimizers\n",
        "\n",
        "  epoch_vals = []\n",
        "  loss_vals = []\n",
        "\n",
        "  print(\"AutoEncoder:\")\n",
        "\n",
        "  # -------- Stage 1 --------\n",
        "  # AutoEncoder Part:\n",
        "  for epoch in range(epochs):\n",
        "    hyb_model.train()\n",
        "    last_loss = 0\n",
        "\n",
        "    for AE_input, _ in loader1:\n",
        "      masked_X = torch.nan_to_num(AE_input, nan=0.0, neginf=0.0) # Make all -inf to 0 for forward pass\n",
        "      reconstructed, _ = hyb_model(masked_X)\n",
        "\n",
        "      loss = custom_loss(reconstructed, AE_input, loss_fn1) # Calculate MSE only for non-masked values\n",
        "\n",
        "      optimizer_enc.zero_grad()\n",
        "      optimizer_dec.zero_grad()\n",
        "\n",
        "      loss.backward()\n",
        "\n",
        "      clipping_value = 10\n",
        "      torch.nn.utils.clip_grad_norm_(hyb_model.parameters(), clipping_value)\n",
        "\n",
        "      optimizer_enc.step()\n",
        "      optimizer_dec.step()\n",
        "\n",
        "      last_loss = loss.item()\n",
        "\n",
        "    print(f'Epoch {epoch}: Loss = {last_loss}')\n",
        "\n",
        "  print()\n",
        "  print(\"Regressor:\")\n",
        "\n",
        "  # -------- Stage 2 --------\n",
        "  for epoch in range(epochs):\n",
        "    hyb_model.train()\n",
        "\n",
        "    # Freeze AE\n",
        "    for name, param in hyb_model.named_parameters():\n",
        "      if \"encoder\" in name or \"decoder\" in name:\n",
        "        param.requires_grad = False\n",
        "\n",
        "    last_loss = 0\n",
        "\n",
        "    # Regressor Part:\n",
        "\n",
        "    for batch in loader2:\n",
        "      if batch == []:\n",
        "        continue\n",
        "\n",
        "      avg_loss = 0\n",
        "      optimizer_reg.zero_grad()\n",
        "\n",
        "      for x, y in batch:\n",
        "        masked_X = torch.nan_to_num(x, nan=0.0, neginf=0.0)\n",
        "        _, y_pred = hyb_model(masked_X)\n",
        "\n",
        "        loss = loss_fn2(y_pred, y)\n",
        "        avg_loss += loss/len(batch)\n",
        "\n",
        "      avg_loss.backward()\n",
        "\n",
        "      optimizer_reg.step()\n",
        "      last_loss = avg_loss.item()\n",
        "\n",
        "    scheduler_reg.step()\n",
        "    print(f'Epoch {epoch}: Loss = {last_loss}')\n",
        "\n",
        "  print()\n",
        "  print(\"Both:\")\n",
        "\n",
        "  # -------- Stage 3 --------\n",
        "  for epoch in range(epochs):\n",
        "    hyb_model.train()\n",
        "\n",
        "    # Unfreeze AE\n",
        "    for name, param in hyb_model.named_parameters():\n",
        "      if \"encoder\" in name or \"decoder\" in name:\n",
        "        param.requires_grad = True\n",
        "\n",
        "    for batch in loader2:\n",
        "      if batch == []:\n",
        "        continue\n",
        "\n",
        "      avg_loss_reg = 0\n",
        "      avg_loss_ae = 0\n",
        "\n",
        "      optimizer_both.zero_grad()\n",
        "\n",
        "      for x, y in batch:\n",
        "        masked_X = torch.nan_to_num(x, nan=0.0, neginf=0.0)\n",
        "        reconstruction, y_pred = hyb_model(masked_X)\n",
        "\n",
        "        loss_reg = loss_fn2(y_pred, y)\n",
        "        avg_loss_reg += loss_reg/len(batch)\n",
        "\n",
        "        loss_ae = custom_loss(reconstruction, x, loss_fn1)\n",
        "        avg_loss_ae += loss_ae/len(batch)\n",
        "\n",
        "      combined_loss = avg_loss_reg + avg_loss_ae\n",
        "      combined_loss.backward()\n",
        "\n",
        "      # optimizer.step()\n",
        "      optimizer_both.step()\n",
        "      last_loss = combined_loss.item()\n",
        "\n",
        "    scheduler_both.step()\n",
        "\n",
        "    print(f'Epoch {epoch}: Loss = {last_loss}')"
      ]
    },
    {
      "cell_type": "code",
      "source": [
        "train_hybridNN_0mask(hybrid_model, AE_train_loader_x, X_train_loader, optimizers, loss_MSE, loss_MAE, custom_loss, epochs=15)"
      ],
      "metadata": {
        "id": "Gm-H2vss5Vfy"
      },
      "execution_count": null,
      "outputs": []
    },
    {
      "cell_type": "code",
      "execution_count": null,
      "metadata": {
        "id": "SqPkNPeLv0ks"
      },
      "outputs": [],
      "source": [
        "torch.save(hybrid_model.state_dict(), \"hybrid_model.pth\")"
      ]
    },
    {
      "cell_type": "code",
      "execution_count": null,
      "metadata": {
        "id": "GzDBO4CUJA1d"
      },
      "outputs": [],
      "source": [
        "# hybrid_model = HybridNN((k+1) * len(time_embeddings) + 1, dim_reduction_size)\n",
        "# hybrid_model.load_state_dict(torch.load(\"hybrid_model.pth\")) # To load model"
      ]
    },
    {
      "cell_type": "markdown",
      "metadata": {
        "id": "cHQo2OSKKrSg"
      },
      "source": [
        "# Measuring Performance"
      ]
    },
    {
      "cell_type": "code",
      "execution_count": null,
      "metadata": {
        "id": "Jl44DxaPPbk5"
      },
      "outputs": [],
      "source": [
        "def MAE(pred, y):\n",
        "  return abs(pred-y)"
      ]
    },
    {
      "cell_type": "code",
      "execution_count": null,
      "metadata": {
        "id": "yGDsqheDaVtX"
      },
      "outputs": [],
      "source": [
        "def metric_combinationTS(gene_no, metric_func, n, database=all_data, model=hybrid_model, time_points=time_embeddings, printB=False):\n",
        "  \"\"\"\n",
        "    metric_combinationTS calculate performance metric for prediction of combinations hidden time points for single gene in database\n",
        "\n",
        "    :param time_points: How many time points to measure\n",
        "    :param metric_func: Metric function to measure performance (MAE is preferred)\n",
        "    :param n: Length of combinations\n",
        "\n",
        "    :return: Average value of metric for each hidden time point for all genes, also prints lowest value\n",
        "  \"\"\"\n",
        "\n",
        "  model.eval()\n",
        "  gene = database[gene_no]\n",
        "  max_TS = int(gene[-1])+1\n",
        "\n",
        "  combinations = generate_combintations(n)\n",
        "\n",
        "  metric_values = []\n",
        "\n",
        "  with torch.no_grad():\n",
        "    for comb in combinations: # Sequence of combinations to average\n",
        "      combintation_sum = 0 # Sum absolute error of all combinations, then divide by n\n",
        "      seed = random.random()\n",
        "\n",
        "      for sequence in comb: # Calculate MAE for each sequence, average them\n",
        "        masked, y = mask(sequence, gene)\n",
        "        masked, y = torch.tensor(masked, dtype=torch.float32), torch.tensor(y[0], dtype=torch.float32)\n",
        "\n",
        "        zeros_X = torch.nan_to_num(masked, nan=0.0, neginf=0.0)\n",
        "        _, prediction = model(zeros_X)\n",
        "\n",
        "        metric_measure = metric_func(prediction, y)[0].item() # Measure error using metric_func\n",
        "        combintation_sum += metric_measure\n",
        "\n",
        "      avg_combination = combintation_sum/n\n",
        "      metric_values.append(avg_combination) # Append value of error\n",
        "\n",
        "      if printB: print(f'{metric_func.__name__} for time point(s) {comb[0]}: {avg_combination}') # Print error value for each time point(s)\n",
        "\n",
        "  metric_values = np.array(metric_values)\n",
        "\n",
        "  if printB:\n",
        "    print(f'Average {metric_func.__name__}: {metric_values.sum()/len(metric_values)}') # Print average value for all time points\n",
        "\n",
        "    lowest_MAE = combinations[metric_values.argmin()][0]\n",
        "    print(f'Lowest time point(s): {lowest_MAE}')\n",
        "\n",
        "  return metric_values\n"
      ]
    },
    {
      "cell_type": "code",
      "execution_count": null,
      "metadata": {
        "id": "7vdfLpmmF0hV"
      },
      "outputs": [],
      "source": [
        "# ar_24002 = metric_combinationTS(24002, MAE, 2, printB=True) # For one gene"
      ]
    },
    {
      "cell_type": "code",
      "execution_count": null,
      "metadata": {
        "id": "9KBmoD7RbtEC"
      },
      "outputs": [],
      "source": [
        "def avg_metric_combinationTS(metric_func, n, model, time_points=len(bulks_adata.obs), database=all_data, number_genes=len(bulks_adata.var), verbose=False):\n",
        "  \"\"\"\n",
        "    avg_metric_combinationTS calculate average performance metric for prediction of combinations hidden time points for every gene in database\n",
        "\n",
        "    :param time_points: How many time points to measure\n",
        "    :param metric_func: Metric function to measure performance (MAE is preferred)\n",
        "    :param n: How many time points to mask\n",
        "    :param database: Database to choose genes from\n",
        "    :param number_genes: Total number of genes\n",
        "    :param verbose: Print verbose output, otherwise only shows time points to choose for further analysis\n",
        "\n",
        "    :return: Average value of metric for each hidden time point for all genes, also prints lowest value\n",
        "  \"\"\"\n",
        "  TS_combinations = generate_combintations(n)\n",
        "  avg_val = np.zeros(len(TS_combinations))\n",
        "\n",
        "  for i in range(number_genes):\n",
        "    vals = metric_combinationTS(i, metric_func, n, model=model, database=database, printB=False)\n",
        "    avg_val += vals\n",
        "\n",
        "  avg_val = avg_val/number_genes\n",
        "  avg_allTS = 0\n",
        "\n",
        "  for t in range(len(avg_val)):\n",
        "    avg_allTS += avg_val[t]\n",
        "    print(f'Average {metric_func.__name__} value for all genes at time point {TS_combinations[t][0]}: {avg_val[t]}')\n",
        "\n",
        "  avg_allTS = avg_allTS/len(avg_val)\n",
        "\n",
        "  if verbose:\n",
        "    print()\n",
        "    print(f'Average {metric_func.__name__} value for all genes: {avg_allTS}')\n",
        "\n",
        "  lowest_MAE = TS_combinations[avg_val.argmin()][0]\n",
        "  highest_MAE = TS_combinations[avg_val.argmax()][0]\n",
        "\n",
        "  if verbose:\n",
        "    print(f'Lowest time point: {lowest_MAE}')\n",
        "    print(f'Highest time point: {highest_MAE}')\n",
        "\n",
        "    print()\n",
        "  to_choose = [x for x in time_embeddings if x not in lowest_MAE]\n",
        "  print(f'Time Points to choose for further analysis: {to_choose}')\n",
        "\n",
        "  return avg_val, avg_allTS"
      ]
    },
    {
      "cell_type": "code",
      "execution_count": null,
      "metadata": {
        "colab": {
          "base_uri": "https://localhost:8080/"
        },
        "id": "wDSkAW8LAAfz",
        "outputId": "f13ec485-2c0f-4bdf-a8d1-2cfc64c69757"
      },
      "outputs": [
        {
          "name": "stdout",
          "output_type": "stream",
          "text": [
            "Average MAE value for all genes at time point [0]: 0.06497100278184129\n",
            "Average MAE value for all genes at time point [1]: 0.02537013329897309\n",
            "Average MAE value for all genes at time point [2]: 0.049034212157324265\n",
            "Average MAE value for all genes at time point [3]: 0.053937704369270555\n",
            "Average MAE value for all genes at time point [4]: 0.05664672457886627\n",
            "Average MAE value for all genes at time point [5]: 0.06176010209634357\n",
            "Average MAE value for all genes at time point [6]: 0.07472919242518644\n",
            "\n",
            "Average MAE value for all genes: 0.05520701024397221\n",
            "Lowest time point: [1]\n",
            "Highest time point: [6]\n",
            "\n",
            "Time Points to choose for further analysis: [0, 2, 3, 4, 5, 6]\n"
          ]
        }
      ],
      "source": [
        "avg_valarray_1, avg_val_1 = avg_metric_combinationTS(MAE, 1, hybrid_model, verbose=True)"
      ]
    },
    {
      "cell_type": "code",
      "execution_count": null,
      "metadata": {
        "colab": {
          "base_uri": "https://localhost:8080/"
        },
        "id": "MKhXXcpQiMAg",
        "outputId": "567f4dfe-f871-47c4-cbf7-1f43b3523ea0"
      },
      "outputs": [
        {
          "name": "stdout",
          "output_type": "stream",
          "text": [
            "Average MAE value for all genes at time point [0, 1]: 0.07729326605803605\n",
            "Average MAE value for all genes at time point [0, 2]: 0.055680796239796715\n",
            "Average MAE value for all genes at time point [0, 3]: 0.06121380940705421\n",
            "Average MAE value for all genes at time point [0, 4]: 0.061711416936236975\n",
            "Average MAE value for all genes at time point [0, 5]: 0.06426453518093331\n",
            "Average MAE value for all genes at time point [0, 6]: 0.07114696394482356\n",
            "Average MAE value for all genes at time point [1, 2]: 0.042057725422656705\n",
            "Average MAE value for all genes at time point [1, 3]: 0.04137709977822184\n",
            "Average MAE value for all genes at time point [1, 4]: 0.038296750259178225\n",
            "Average MAE value for all genes at time point [1, 5]: 0.04436391560729438\n",
            "Average MAE value for all genes at time point [1, 6]: 0.05136747662524188\n",
            "Average MAE value for all genes at time point [2, 3]: 0.04940897686898825\n",
            "Average MAE value for all genes at time point [2, 4]: 0.04745924537931569\n",
            "Average MAE value for all genes at time point [2, 5]: 0.05336302350929085\n",
            "Average MAE value for all genes at time point [2, 6]: 0.06153753535858899\n",
            "Average MAE value for all genes at time point [3, 4]: 0.06549998647067695\n",
            "Average MAE value for all genes at time point [3, 5]: 0.056486319175300496\n",
            "Average MAE value for all genes at time point [3, 6]: 0.06135147819107321\n",
            "Average MAE value for all genes at time point [4, 5]: 0.0611192567817731\n",
            "Average MAE value for all genes at time point [4, 6]: 0.06816964457575038\n",
            "Average MAE value for all genes at time point [5, 6]: 0.11956055107813639\n",
            "\n",
            "Average MAE value for all genes: 0.05965379870706515\n",
            "Lowest time point: [1, 4]\n",
            "Highest time point: [5, 6]\n",
            "\n",
            "Time Points to choose for further analysis: [0, 2, 3, 5, 6]\n"
          ]
        }
      ],
      "source": [
        "avg_valarray_2, avg_val_2 = avg_metric_combinationTS(MAE, 2, hybrid_model, verbose=True)"
      ]
    },
    {
      "cell_type": "code",
      "execution_count": null,
      "metadata": {
        "colab": {
          "base_uri": "https://localhost:8080/"
        },
        "id": "B51dKAII_d2w",
        "outputId": "dacaf702-724e-4fab-fedb-d8aaf6872591"
      },
      "outputs": [
        {
          "name": "stdout",
          "output_type": "stream",
          "text": [
            "Average MAE value for all genes at time point [0, 2, 1]: 0.0876333599074603\n",
            "Average MAE value for all genes at time point [0, 3, 1]: 0.06169340921765082\n",
            "Average MAE value for all genes at time point [0, 4, 1]: 0.06727375831989213\n",
            "Average MAE value for all genes at time point [0, 5, 1]: 0.07345863991490087\n",
            "Average MAE value for all genes at time point [0, 6, 1]: 0.0778290865580267\n",
            "Average MAE value for all genes at time point [0, 3, 2]: 0.052985763041651895\n",
            "Average MAE value for all genes at time point [0, 4, 2]: 0.05268739854693786\n",
            "Average MAE value for all genes at time point [0, 5, 2]: 0.05702587135592082\n",
            "Average MAE value for all genes at time point [0, 6, 2]: 0.062284525530309436\n",
            "Average MAE value for all genes at time point [0, 4, 3]: 0.06526230444629118\n",
            "Average MAE value for all genes at time point [0, 5, 3]: 0.06115045325918546\n",
            "Average MAE value for all genes at time point [0, 6, 3]: 0.06490460804578883\n",
            "Average MAE value for all genes at time point [0, 5, 4]: 0.06403894699268527\n",
            "Average MAE value for all genes at time point [0, 6, 4]: 0.06792763815478738\n",
            "Average MAE value for all genes at time point [0, 6, 5]: 0.10081425588063826\n",
            "Average MAE value for all genes at time point [1, 3, 2]: 0.0450676814238606\n",
            "Average MAE value for all genes at time point [1, 4, 2]: 0.04113304778370852\n",
            "Average MAE value for all genes at time point [1, 5, 2]: 0.047949290444932124\n",
            "Average MAE value for all genes at time point [1, 6, 2]: 0.05456495354854271\n",
            "Average MAE value for all genes at time point [1, 4, 3]: 0.05197497325745\n",
            "Average MAE value for all genes at time point [1, 5, 3]: 0.047629287072270016\n",
            "Average MAE value for all genes at time point [1, 6, 3]: 0.053757346268387525\n",
            "Average MAE value for all genes at time point [1, 5, 4]: 0.046691601696094466\n",
            "Average MAE value for all genes at time point [1, 6, 4]: 0.05314871847449759\n",
            "Average MAE value for all genes at time point [1, 6, 5]: 0.08712860201761617\n",
            "Average MAE value for all genes at time point [2, 4, 3]: 0.06727010087171546\n",
            "Average MAE value for all genes at time point [2, 5, 3]: 0.054780418534963814\n",
            "Average MAE value for all genes at time point [2, 6, 3]: 0.060285029964288764\n",
            "Average MAE value for all genes at time point [2, 5, 4]: 0.0524845738231087\n",
            "Average MAE value for all genes at time point [2, 6, 4]: 0.05977283780283885\n",
            "Average MAE value for all genes at time point [2, 6, 5]: 0.09013985163781825\n",
            "Average MAE value for all genes at time point [3, 5, 4]: 0.06260574680185879\n",
            "Average MAE value for all genes at time point [3, 6, 4]: 0.06428589089593138\n",
            "Average MAE value for all genes at time point [3, 6, 5]: 0.10292664090584701\n",
            "Average MAE value for all genes at time point [4, 6, 5]: 0.09790768299158653\n",
            "\n",
            "Average MAE value for all genes: 0.06452783701112699\n",
            "Lowest time point: [1, 4, 2]\n",
            "Highest time point: [3, 6, 5]\n",
            "\n",
            "Time Points to choose for further analysis: [0, 3, 5, 6]\n"
          ]
        }
      ],
      "source": [
        "avg_valarray_3, avg_val_3 = avg_metric_combinationTS(MAE, 3, hybrid_model, verbose=True)"
      ]
    },
    {
      "cell_type": "code",
      "execution_count": null,
      "metadata": {
        "colab": {
          "base_uri": "https://localhost:8080/"
        },
        "id": "y_OZ2vjo8653",
        "outputId": "3bfdc5e6-152a-441a-bf89-22095eac8fc7"
      },
      "outputs": [
        {
          "name": "stdout",
          "output_type": "stream",
          "text": [
            "Average MAE value for all genes at time point [0, 3, 2, 1]: 0.07336761737100217\n",
            "Average MAE value for all genes at time point [0, 4, 2, 1]: 0.07491623574415765\n",
            "Average MAE value for all genes at time point [0, 5, 2, 1]: 0.08104655645583989\n",
            "Average MAE value for all genes at time point [0, 6, 2, 1]: 0.0831270462640047\n",
            "Average MAE value for all genes at time point [0, 4, 3, 1]: 0.06645574509034728\n",
            "Average MAE value for all genes at time point [0, 5, 3, 1]: 0.061672100487849095\n",
            "Average MAE value for all genes at time point [0, 6, 3, 1]: 0.06868655988407166\n",
            "Average MAE value for all genes at time point [0, 5, 4, 1]: 0.06581496922751831\n",
            "Average MAE value for all genes at time point [0, 6, 4, 1]: 0.07054218675017182\n",
            "Average MAE value for all genes at time point [0, 6, 5, 1]: 0.09501590603968361\n",
            "Average MAE value for all genes at time point [0, 4, 3, 2]: 0.06489960215968797\n",
            "Average MAE value for all genes at time point [0, 5, 3, 2]: 0.05558797311591722\n",
            "Average MAE value for all genes at time point [0, 6, 3, 2]: 0.060528640112892995\n",
            "Average MAE value for all genes at time point [0, 5, 4, 2]: 0.05518917256007262\n",
            "Average MAE value for all genes at time point [0, 6, 4, 2]: 0.06036501941170233\n",
            "Average MAE value for all genes at time point [0, 6, 5, 2]: 0.08327952623991587\n",
            "Average MAE value for all genes at time point [0, 5, 4, 3]: 0.06355672715243418\n",
            "Average MAE value for all genes at time point [0, 6, 4, 3]: 0.06500591499533039\n",
            "Average MAE value for all genes at time point [0, 6, 5, 3]: 0.09229931921484726\n",
            "Average MAE value for all genes at time point [0, 6, 5, 4]: 0.09145659872319568\n",
            "Average MAE value for all genes at time point [1, 4, 3, 2]: 0.05782148539480598\n",
            "Average MAE value for all genes at time point [1, 5, 3, 2]: 0.05058524011981596\n",
            "Average MAE value for all genes at time point [1, 6, 3, 2]: 0.05857382206522743\n",
            "Average MAE value for all genes at time point [1, 5, 4, 2]: 0.048545902794522894\n",
            "Average MAE value for all genes at time point [1, 6, 4, 2]: 0.055098874928216295\n",
            "Average MAE value for all genes at time point [1, 6, 5, 2]: 0.07609133770468664\n",
            "Average MAE value for all genes at time point [1, 5, 4, 3]: 0.05541220922311186\n",
            "Average MAE value for all genes at time point [1, 6, 4, 3]: 0.0580464551498056\n",
            "Average MAE value for all genes at time point [1, 6, 5, 3]: 0.08172694407146386\n",
            "Average MAE value for all genes at time point [1, 6, 5, 4]: 0.0802573551763829\n",
            "Average MAE value for all genes at time point [2, 5, 4, 3]: 0.0623602054589234\n",
            "Average MAE value for all genes at time point [2, 6, 4, 3]: 0.06665039817835593\n",
            "Average MAE value for all genes at time point [2, 6, 5, 3]: 0.08619564296516183\n",
            "Average MAE value for all genes at time point [2, 6, 5, 4]: 0.07887640195709537\n",
            "Average MAE value for all genes at time point [3, 6, 5, 4]: 0.12919876092475896\n",
            "\n",
            "Average MAE value for all genes: 0.07080727008894223\n",
            "Lowest time point: [1, 5, 4, 2]\n",
            "Highest time point: [3, 6, 5, 4]\n",
            "\n",
            "Time Points to choose for further analysis: [0, 3, 6]\n"
          ]
        }
      ],
      "source": [
        "avg_valarray_4, avg_val_4 = avg_metric_combinationTS(MAE, 4, hybrid_model, verbose=True)"
      ]
    },
    {
      "cell_type": "code",
      "execution_count": null,
      "metadata": {
        "colab": {
          "base_uri": "https://localhost:8080/"
        },
        "id": "hEiG0-3dpF05",
        "outputId": "54a4f2f4-a564-420c-85b8-b6da9b5272cf"
      },
      "outputs": [
        {
          "name": "stdout",
          "output_type": "stream",
          "text": [
            "Average MAE value for all genes at time point [0, 4, 3, 2, 1]: 0.1065595471424595\n",
            "Average MAE value for all genes at time point [0, 5, 3, 2, 1]: 0.06904672616541707\n",
            "Average MAE value for all genes at time point [0, 6, 3, 2, 1]: 0.0767208272006866\n",
            "Average MAE value for all genes at time point [0, 5, 4, 2, 1]: 0.07208386216224556\n",
            "Average MAE value for all genes at time point [0, 6, 4, 2, 1]: 0.0766968612262166\n",
            "Average MAE value for all genes at time point [0, 6, 5, 2, 1]: 0.09048381928305609\n",
            "Average MAE value for all genes at time point [0, 5, 4, 3, 1]: 0.06496141284849331\n",
            "Average MAE value for all genes at time point [0, 6, 4, 3, 1]: 0.06938050419938538\n",
            "Average MAE value for all genes at time point [0, 6, 5, 3, 1]: 0.0856395802822469\n",
            "Average MAE value for all genes at time point [0, 6, 5, 4, 1]: 0.08577136049351361\n",
            "Average MAE value for all genes at time point [0, 5, 4, 3, 2]: 0.061503725376356594\n",
            "Average MAE value for all genes at time point [0, 6, 4, 3, 2]: 0.06451266433884549\n",
            "Average MAE value for all genes at time point [0, 6, 5, 3, 2]: 0.08026731839422904\n",
            "Average MAE value for all genes at time point [0, 6, 5, 4, 2]: 0.07725800218515047\n",
            "Average MAE value for all genes at time point [0, 6, 5, 4, 3]: 0.1128516292675827\n",
            "Average MAE value for all genes at time point [1, 5, 4, 3, 2]: 0.05985149398586546\n",
            "Average MAE value for all genes at time point [1, 6, 4, 3, 2]: 0.058825642725479736\n",
            "Average MAE value for all genes at time point [1, 6, 5, 3, 2]: 0.07557211052191375\n",
            "Average MAE value for all genes at time point [1, 6, 5, 4, 2]: 0.07392639442126583\n",
            "Average MAE value for all genes at time point [1, 6, 5, 4, 3]: 0.10309759963831511\n",
            "Average MAE value for all genes at time point [2, 6, 5, 4, 3]: 0.12886703053722515\n",
            "\n",
            "Average MAE value for all genes: 0.08066086249504524\n",
            "Lowest time point: [1, 6, 4, 3, 2]\n",
            "Highest time point: [2, 6, 5, 4, 3]\n",
            "\n",
            "Time Points to choose for further analysis: [0, 5]\n"
          ]
        }
      ],
      "source": [
        "avg_valarray_5, avg_val_5 = avg_metric_combinationTS(MAE, 5, hybrid_model, verbose=True)"
      ]
    },
    {
      "cell_type": "code",
      "execution_count": null,
      "metadata": {
        "colab": {
          "background_save": true
        },
        "id": "iBNl-TSYpGux",
        "outputId": "0fe3d712-33a4-4366-affb-e9d4e9a4cb5d"
      },
      "outputs": [
        {
          "name": "stdout",
          "output_type": "stream",
          "text": [
            "Average MAE value for all genes at time point [0, 5, 4, 3, 2, 1]: 0.10503528798860215\n",
            "Average MAE value for all genes at time point [0, 6, 4, 3, 2, 1]: 0.09166407934247423\n",
            "Average MAE value for all genes at time point [0, 6, 5, 3, 2, 1]: 0.0840247614468161\n",
            "Average MAE value for all genes at time point [0, 6, 5, 4, 2, 1]: 0.08417744418934066\n",
            "Average MAE value for all genes at time point [0, 6, 5, 4, 3, 1]: 0.10287111560114952\n",
            "Average MAE value for all genes at time point [0, 6, 5, 4, 3, 2]: 0.11431115852057681\n",
            "Average MAE value for all genes at time point [1, 6, 5, 4, 3, 2]: 0.12088256280356349\n",
            "\n",
            "Average MAE value for all genes: 0.10042377284178898\n",
            "Lowest time point: [0, 6, 5, 3, 2, 1]\n",
            "Highest time point: [1, 6, 5, 4, 3, 2]\n",
            "\n",
            "Time Points to choose for further analysis: [4]\n"
          ]
        }
      ],
      "source": [
        "avg_valarray_6, avg_val_6 = avg_metric_combinationTS(MAE, 6, hybrid_model, verbose=True)"
      ]
    },
    {
      "cell_type": "code",
      "execution_count": null,
      "metadata": {
        "colab": {
          "background_save": true
        },
        "id": "pQZGqkIwmGDL",
        "outputId": "34c66a31-6ee1-4366-db3b-d33d2a640af8"
      },
      "outputs": [
        {
          "data": {
            "image/png": "[encoded data removed]",
            "text/plain": [
              "<Figure size 640x480 with 1 Axes>"
            ]
          },
          "metadata": {},
          "output_type": "display_data"
        }
      ],
      "source": [
        "plt.title(f\"No. time points shown vs. Average MAE\")\n",
        "plt.plot([1, 2, 3, 4, 5, 6], [avg_val_6, avg_val_5, avg_val_4, avg_val_3, avg_val_2, avg_val_1], color='blue')\n",
        "plt.xlabel('No. Shown Time Points')\n",
        "plt.ylabel('Average MAE for all genes')\n",
        "plt.show()"
      ]
    },
    {
      "cell_type": "code",
      "execution_count": null,
      "metadata": {
        "colab": {
          "background_save": true
        },
        "id": "g_UozmwCr7_9"
      },
      "outputs": [],
      "source": [
        "def correlation_combination_timepoint(n, database=all_data, model=hybrid_model, verbose=False):\n",
        "  '''\n",
        "    correlation_combination_timepoint calculate correlation for prediction of combinations hidden time points for every gene in database\n",
        "  '''\n",
        "  model.eval()\n",
        "\n",
        "  combinations = generate_combintations(n)\n",
        "\n",
        "  r_values = []\n",
        "  r2_values = []\n",
        "\n",
        "  with torch.no_grad():\n",
        "    for comb in combinations:\n",
        "      r_vals = 0\n",
        "      r2_vals = 0\n",
        "\n",
        "      seed = random.random()\n",
        "\n",
        "      for sequence in comb:\n",
        "        y_true_seq = np.zeros(len(bulks_adata.var))\n",
        "        y_pred_seq = np.zeros(len(bulks_adata.var))\n",
        "\n",
        "        for i in range(len(bulks_adata.var)):\n",
        "          formatted_input = database[i]\n",
        "\n",
        "          masked, y = mask(sequence, formatted_input)\n",
        "          masked, y = torch.tensor(masked, dtype=torch.float32), torch.tensor(y[0], dtype=torch.float32)\n",
        "\n",
        "          zeros_X = torch.nan_to_num(masked, nan=0.0, neginf=0.0)\n",
        "          _, prediction = model(zeros_X)\n",
        "\n",
        "          y_true_seq[i] = y.item()\n",
        "          y_pred_seq[i] = prediction.item()\n",
        "\n",
        "        r = scipy.stats.pearsonr(y_true_seq, y_pred_seq)[0]\n",
        "        r_vals += r\n",
        "        r2_vals += r**2\n",
        "\n",
        "      r_values.append(r_vals/len(comb))\n",
        "      r2_values.append(r2_vals/len(comb))\n",
        "\n",
        "\n",
        "      if verbose:\n",
        "        print(f'R for time point(s) {comb[0]}: {r}')\n",
        "        print(f'R^2 for time point(s) {comb[0]}: {r**2}')\n",
        "        print()\n",
        "\n",
        "  r_values = np.array(r_values)\n",
        "  r2_values = np.array(r2_values)\n",
        "\n",
        "  avg_r2 = r2_values.sum()/len(r2_values)\n",
        "\n",
        "  if printB: print(f'Average R^2: {avg_r2}')\n",
        "\n",
        "  return r_values, avg_r2"
      ]
    },
    {
      "cell_type": "code",
      "execution_count": null,
      "metadata": {
        "colab": {
          "background_save": true
        },
        "id": "6er5EMsp1mpx",
        "outputId": "89caae48-9ca3-480f-fcd8-46bb19bf405b"
      },
      "outputs": [
        {
          "name": "stdout",
          "output_type": "stream",
          "text": [
            "R for time point(s) [0]: 0.9316934249123887\n",
            "R^2 for time point(s) [0]: 0.8680526380249769\n",
            "\n",
            "R for time point(s) [1]: 0.9796886940225549\n",
            "R^2 for time point(s) [1]: 0.9597899371956191\n",
            "\n",
            "R for time point(s) [2]: 0.9526898953402156\n",
            "R^2 for time point(s) [2]: 0.9076180366833511\n",
            "\n",
            "R for time point(s) [3]: 0.970075337442223\n",
            "R^2 for time point(s) [3]: 0.9410461603136427\n",
            "\n",
            "R for time point(s) [4]: 0.9605276753855563\n",
            "R^2 for time point(s) [4]: 0.9226134151815806\n",
            "\n",
            "R for time point(s) [5]: 0.9665325735871652\n",
            "R^2 for time point(s) [5]: 0.9341852158050288\n",
            "\n",
            "R for time point(s) [6]: 0.957607552965136\n",
            "R^2 for time point(s) [6]: 0.9170122254958758\n",
            "\n",
            "Average R^2: 0.9214739469571536\n"
          ]
        }
      ],
      "source": [
        "r_vals_1, r_avg_1 = correlation_combination_timepoint(1, verbose=True)"
      ]
    },
    {
      "cell_type": "code",
      "execution_count": null,
      "metadata": {
        "colab": {
          "background_save": true
        },
        "id": "A67BF9yM4Ygi",
        "outputId": "c7e38f9d-872f-41f6-c9a2-65c9165fbc88"
      },
      "outputs": [
        {
          "name": "stdout",
          "output_type": "stream",
          "text": [
            "R for time point(s) [0, 1]: 0.902681429364738\n",
            "R^2 for time point(s) [0, 1]: 0.8148337629199666\n",
            "\n",
            "R for time point(s) [0, 2]: 0.9510640462747368\n",
            "R^2 for time point(s) [0, 2]: 0.9045228201164748\n",
            "\n",
            "R for time point(s) [0, 3]: 0.968944406804547\n",
            "R^2 for time point(s) [0, 3]: 0.9388532634778154\n",
            "\n",
            "R for time point(s) [0, 4]: 0.9603928170912588\n",
            "R^2 for time point(s) [0, 4]: 0.922354363120484\n",
            "\n",
            "R for time point(s) [0, 5]: 0.9631048139720793\n",
            "R^2 for time point(s) [0, 5]: 0.9275708826961934\n",
            "\n",
            "R for time point(s) [0, 6]: 0.9555878206917431\n",
            "R^2 for time point(s) [0, 6]: 0.9131480830543949\n",
            "\n",
            "R for time point(s) [1, 2]: 0.9440485155524846\n",
            "R^2 for time point(s) [1, 2]: 0.8912275997168497\n",
            "\n",
            "R for time point(s) [1, 3]: 0.9692203682580163\n",
            "R^2 for time point(s) [1, 3]: 0.9393881222462047\n",
            "\n",
            "R for time point(s) [1, 4]: 0.9614886108566534\n",
            "R^2 for time point(s) [1, 4]: 0.9244603488070571\n",
            "\n",
            "R for time point(s) [1, 5]: 0.962010773831141\n",
            "R^2 for time point(s) [1, 5]: 0.9254647289671907\n",
            "\n",
            "R for time point(s) [1, 6]: 0.9519446480335274\n",
            "R^2 for time point(s) [1, 6]: 0.9061986129196764\n",
            "\n",
            "R for time point(s) [2, 3]: 0.9709098765067261\n",
            "R^2 for time point(s) [2, 3]: 0.9426659882983062\n",
            "\n",
            "R for time point(s) [2, 4]: 0.9611989754987055\n",
            "R^2 for time point(s) [2, 4]: 0.923903470499761\n",
            "\n",
            "R for time point(s) [2, 5]: 0.9654221563048109\n",
            "R^2 for time point(s) [2, 5]: 0.9320399398842307\n",
            "\n",
            "R for time point(s) [2, 6]: 0.9568021031516026\n",
            "R^2 for time point(s) [2, 6]: 0.9154702645953301\n",
            "\n",
            "R for time point(s) [3, 4]: 0.9339369840383671\n",
            "R^2 for time point(s) [3, 4]: 0.8722382901546812\n",
            "\n",
            "R for time point(s) [3, 5]: 0.9607651691290728\n",
            "R^2 for time point(s) [3, 5]: 0.923069710211616\n",
            "\n",
            "R for time point(s) [3, 6]: 0.954571093411198\n",
            "R^2 for time point(s) [3, 6]: 0.91120597237625\n",
            "\n",
            "R for time point(s) [4, 5]: 0.9608955452945864\n",
            "R^2 for time point(s) [4, 5]: 0.9233202489669806\n",
            "\n",
            "R for time point(s) [4, 6]: 0.9563548575394916\n",
            "R^2 for time point(s) [4, 6]: 0.9146146135393812\n",
            "\n",
            "R for time point(s) [5, 6]: 0.8672397544539159\n",
            "R^2 for time point(s) [5, 6]: 0.7521047917052883\n",
            "\n",
            "Average R^2: 0.8996904257825207\n"
          ]
        }
      ],
      "source": [
        "r_vals_2, r_avg_2 = correlation_combination_timepoint(2, verbose=True)"
      ]
    },
    {
      "cell_type": "code",
      "execution_count": null,
      "metadata": {
        "colab": {
          "background_save": true
        },
        "id": "V1vsuVnQ5AwB",
        "outputId": "b5463064-b40f-438c-e347-c8b06e899dec"
      },
      "outputs": [
        {
          "name": "stdout",
          "output_type": "stream",
          "text": [
            "R for time point(s) [0, 2, 1]: 0.9214098367352339\n",
            "R^2 for time point(s) [0, 2, 1]: 0.8489960872324505\n",
            "\n",
            "R for time point(s) [0, 3, 1]: 0.9705873892759913\n",
            "R^2 for time point(s) [0, 3, 1]: 0.9420398802215847\n",
            "\n",
            "R for time point(s) [0, 4, 1]: 0.9641068886903905\n",
            "R^2 for time point(s) [0, 4, 1]: 0.9295020928202651\n",
            "\n",
            "R for time point(s) [0, 5, 1]: 0.9587863443535231\n",
            "R^2 for time point(s) [0, 5, 1]: 0.9192712541187925\n",
            "\n",
            "R for time point(s) [0, 6, 1]: 0.9427488941239175\n",
            "R^2 for time point(s) [0, 6, 1]: 0.8887754773718693\n",
            "\n",
            "R for time point(s) [0, 3, 2]: 0.9694767611426267\n",
            "R^2 for time point(s) [0, 3, 2]: 0.9398851903955977\n",
            "\n",
            "R for time point(s) [0, 4, 2]: 0.961260063701305\n",
            "R^2 for time point(s) [0, 4, 2]: 0.924020910067037\n",
            "\n",
            "R for time point(s) [0, 5, 2]: 0.962254069895773\n",
            "R^2 for time point(s) [0, 5, 2]: 0.9259328950309792\n",
            "\n",
            "R for time point(s) [0, 6, 2]: 0.9546997540607239\n",
            "R^2 for time point(s) [0, 6, 2]: 0.9114516204036067\n",
            "\n",
            "R for time point(s) [0, 4, 3]: 0.9341469284543606\n",
            "R^2 for time point(s) [0, 4, 3]: 0.8726304839407164\n",
            "\n",
            "R for time point(s) [0, 5, 3]: 0.954662653223666\n",
            "R^2 for time point(s) [0, 5, 3]: 0.9113807814600494\n",
            "\n",
            "R for time point(s) [0, 6, 3]: 0.9527627574702024\n",
            "R^2 for time point(s) [0, 6, 3]: 0.9077568720222238\n",
            "\n",
            "R for time point(s) [0, 5, 4]: 0.9564597701278122\n",
            "R^2 for time point(s) [0, 5, 4]: 0.9148152918729474\n",
            "\n",
            "R for time point(s) [0, 6, 4]: 0.9552167503178487\n",
            "R^2 for time point(s) [0, 6, 4]: 0.9124390400877913\n",
            "\n",
            "R for time point(s) [0, 6, 5]: 0.8675281410896849\n",
            "R^2 for time point(s) [0, 6, 5]: 0.7526050755825242\n",
            "\n",
            "R for time point(s) [1, 3, 2]: 0.9688215702189036\n",
            "R^2 for time point(s) [1, 3, 2]: 0.938615234921422\n",
            "\n",
            "R for time point(s) [1, 4, 2]: 0.9660246344031427\n",
            "R^2 for time point(s) [1, 4, 2]: 0.9332035942737255\n",
            "\n",
            "R for time point(s) [1, 5, 2]: 0.9598817731948788\n",
            "R^2 for time point(s) [1, 5, 2]: 0.9213730185117447\n",
            "\n",
            "R for time point(s) [1, 6, 2]: 0.94512105421406\n",
            "R^2 for time point(s) [1, 6, 2]: 0.8932538071186962\n",
            "\n",
            "R for time point(s) [1, 4, 3]: 0.9368690249938045\n",
            "R^2 for time point(s) [1, 4, 3]: 0.877723569992842\n",
            "\n",
            "R for time point(s) [1, 5, 3]: 0.957199719911144\n",
            "R^2 for time point(s) [1, 5, 3]: 0.9162313037979726\n",
            "\n",
            "R for time point(s) [1, 6, 3]: 0.9489672046864568\n",
            "R^2 for time point(s) [1, 6, 3]: 0.9005387555704276\n",
            "\n",
            "R for time point(s) [1, 5, 4]: 0.9558290946639507\n",
            "R^2 for time point(s) [1, 5, 4]: 0.9136092582061076\n",
            "\n",
            "R for time point(s) [1, 6, 4]: 0.94967947870748\n",
            "R^2 for time point(s) [1, 6, 4]: 0.901891112278111\n",
            "\n",
            "R for time point(s) [1, 6, 5]: 0.8484140909615177\n",
            "R^2 for time point(s) [1, 6, 5]: 0.7198064697420583\n",
            "\n",
            "R for time point(s) [2, 4, 3]: 0.9263049083519194\n",
            "R^2 for time point(s) [2, 4, 3]: 0.8580407832368577\n",
            "\n",
            "R for time point(s) [2, 5, 3]: 0.9574871568080019\n",
            "R^2 for time point(s) [2, 5, 3]: 0.9167816554522712\n",
            "\n",
            "R for time point(s) [2, 6, 3]: 0.9505982946259965\n",
            "R^2 for time point(s) [2, 6, 3]: 0.903637117745853\n",
            "\n",
            "R for time point(s) [2, 5, 4]: 0.9602803086843733\n",
            "R^2 for time point(s) [2, 5, 4]: 0.9221382712469552\n",
            "\n",
            "R for time point(s) [2, 6, 4]: 0.9533438548129685\n",
            "R^2 for time point(s) [2, 6, 4]: 0.9088645055096503\n",
            "\n",
            "R for time point(s) [2, 6, 5]: 0.8681555046218571\n",
            "R^2 for time point(s) [2, 6, 5]: 0.7536939802052314\n",
            "\n",
            "R for time point(s) [3, 5, 4]: 0.9710295291027246\n",
            "R^2 for time point(s) [3, 5, 4]: 0.942898346389459\n",
            "\n",
            "R for time point(s) [3, 6, 4]: 0.9629462866225167\n",
            "R^2 for time point(s) [3, 6, 4]: 0.9272655509200941\n",
            "\n",
            "R for time point(s) [3, 6, 5]: 0.8612440111263793\n",
            "R^2 for time point(s) [3, 6, 5]: 0.7417412467010549\n",
            "\n",
            "R for time point(s) [4, 6, 5]: 0.8664917164255831\n",
            "R^2 for time point(s) [4, 6, 5]: 0.7508078946341531\n",
            "\n",
            "Average R^2: 0.876716550250241\n"
          ]
        }
      ],
      "source": [
        "r_vals_3, r_avg_3 = correlation_combination_timepoint(3, verbose=True)"
      ]
    },
    {
      "cell_type": "code",
      "execution_count": null,
      "metadata": {
        "colab": {
          "background_save": true
        },
        "id": "rteSZMm0-nJ_",
        "outputId": "a788aec7-d28e-464e-e65e-f96e75f79e63"
      },
      "outputs": [
        {
          "name": "stdout",
          "output_type": "stream",
          "text": [
            "R for time point(s) [0, 3, 2, 1]: 0.9708429733411398\n",
            "R^2 for time point(s) [0, 3, 2, 1]: 0.9425360788858651\n",
            "\n",
            "R for time point(s) [0, 4, 2, 1]: 0.9654838525336112\n",
            "R^2 for time point(s) [0, 4, 2, 1]: 0.932159069503144\n",
            "\n",
            "R for time point(s) [0, 5, 2, 1]: 0.9569865327753663\n",
            "R^2 for time point(s) [0, 5, 2, 1]: 0.9158232239134172\n",
            "\n",
            "R for time point(s) [0, 6, 2, 1]: 0.9379325329934864\n",
            "R^2 for time point(s) [0, 6, 2, 1]: 0.8797174364475775\n",
            "\n",
            "R for time point(s) [0, 4, 3, 1]: 0.9356671987928915\n",
            "R^2 for time point(s) [0, 4, 3, 1]: 0.8754731068969364\n",
            "\n",
            "R for time point(s) [0, 5, 3, 1]: 0.9556780877141733\n",
            "R^2 for time point(s) [0, 5, 3, 1]: 0.9133206073370191\n",
            "\n",
            "R for time point(s) [0, 6, 3, 1]: 0.9371387497421755\n",
            "R^2 for time point(s) [0, 6, 3, 1]: 0.8782290362683278\n",
            "\n",
            "R for time point(s) [0, 5, 4, 1]: 0.953032073011243\n",
            "R^2 for time point(s) [0, 5, 4, 1]: 0.9082701321881073\n",
            "\n",
            "R for time point(s) [0, 6, 4, 1]: 0.9413437361796038\n",
            "R^2 for time point(s) [0, 6, 4, 1]: 0.8861280296445755\n",
            "\n",
            "R for time point(s) [0, 6, 5, 1]: 0.8479718809410781\n",
            "R^2 for time point(s) [0, 6, 5, 1]: 0.7190563108667499\n",
            "\n",
            "R for time point(s) [0, 4, 3, 2]: 0.9284950477670253\n",
            "R^2 for time point(s) [0, 4, 3, 2]: 0.8621030537278905\n",
            "\n",
            "R for time point(s) [0, 5, 3, 2]: 0.9554783272170961\n",
            "R^2 for time point(s) [0, 5, 3, 2]: 0.9129388337815803\n",
            "\n",
            "R for time point(s) [0, 6, 3, 2]: 0.9492862066954224\n",
            "R^2 for time point(s) [0, 6, 3, 2]: 0.9011443022221842\n",
            "\n",
            "R for time point(s) [0, 5, 4, 2]: 0.9576009593436544\n",
            "R^2 for time point(s) [0, 5, 4, 2]: 0.9169995973358873\n",
            "\n",
            "R for time point(s) [0, 6, 4, 2]: 0.953082875048961\n",
            "R^2 for time point(s) [0, 6, 4, 2]: 0.9083669667115936\n",
            "\n",
            "R for time point(s) [0, 6, 5, 2]: 0.8673622778465425\n",
            "R^2 for time point(s) [0, 6, 5, 2]: 0.7523173210311428\n",
            "\n",
            "R for time point(s) [0, 5, 4, 3]: 0.9693645582266295\n",
            "R^2 for time point(s) [0, 5, 4, 3]: 0.9396676467459085\n",
            "\n",
            "R for time point(s) [0, 6, 4, 3]: 0.9625557464528824\n",
            "R^2 for time point(s) [0, 6, 4, 3]: 0.9265135650294657\n",
            "\n",
            "R for time point(s) [0, 6, 5, 3]: 0.8619932581137353\n",
            "R^2 for time point(s) [0, 6, 5, 3]: 0.7430323770335326\n",
            "\n",
            "R for time point(s) [0, 6, 5, 4]: 0.867888037128504\n",
            "R^2 for time point(s) [0, 6, 5, 4]: 0.7532296449907676\n",
            "\n",
            "R for time point(s) [1, 4, 3, 2]: 0.9280053973696938\n",
            "R^2 for time point(s) [1, 4, 3, 2]: 0.8611940175472833\n",
            "\n",
            "R for time point(s) [1, 5, 3, 2]: 0.9611240672574993\n",
            "R^2 for time point(s) [1, 5, 3, 2]: 0.9237594726615981\n",
            "\n",
            "R for time point(s) [1, 6, 3, 2]: 0.9437057064464542\n",
            "R^2 for time point(s) [1, 6, 3, 2]: 0.8905804603796013\n",
            "\n",
            "R for time point(s) [1, 5, 4, 2]: 0.9561162740717319\n",
            "R^2 for time point(s) [1, 5, 4, 2]: 0.9141583295448112\n",
            "\n",
            "R for time point(s) [1, 6, 4, 2]: 0.9408559426063411\n",
            "R^2 for time point(s) [1, 6, 4, 2]: 0.8852099047376666\n",
            "\n",
            "R for time point(s) [1, 6, 5, 2]: 0.8456640245609834\n",
            "R^2 for time point(s) [1, 6, 5, 2]: 0.7151476424366796\n",
            "\n",
            "R for time point(s) [1, 5, 4, 3]: 0.9683675951255716\n",
            "R^2 for time point(s) [1, 5, 4, 3]: 0.937735799289283\n",
            "\n",
            "R for time point(s) [1, 6, 4, 3]: 0.9576321153202179\n",
            "R^2 for time point(s) [1, 6, 4, 3]: 0.917059268292675\n",
            "\n",
            "R for time point(s) [1, 6, 5, 3]: 0.8436233773016233\n",
            "R^2 for time point(s) [1, 6, 5, 3]: 0.7117004027297971\n",
            "\n",
            "R for time point(s) [1, 6, 5, 4]: 0.8461260693763681\n",
            "R^2 for time point(s) [1, 6, 5, 4]: 0.7159293252783026\n",
            "\n",
            "R for time point(s) [2, 5, 4, 3]: 0.9730734519814754\n",
            "R^2 for time point(s) [2, 5, 4, 3]: 0.9468719429511447\n",
            "\n",
            "R for time point(s) [2, 6, 4, 3]: 0.9639826412175256\n",
            "R^2 for time point(s) [2, 6, 4, 3]: 0.9292625325687167\n",
            "\n",
            "R for time point(s) [2, 6, 5, 3]: 0.8602868621987694\n",
            "R^2 for time point(s) [2, 6, 5, 3]: 0.7400934852718044\n",
            "\n",
            "R for time point(s) [2, 6, 5, 4]: 0.8661734479057808\n",
            "R^2 for time point(s) [2, 6, 5, 4]: 0.7502564418569884\n",
            "\n",
            "R for time point(s) [3, 6, 5, 4]: 0.6873658917772122\n",
            "R^2 for time point(s) [3, 6, 5, 4]: 0.47247186917868217\n",
            "\n",
            "Average R^2: 0.8492483930400965\n"
          ]
        }
      ],
      "source": [
        "r_vals_4, r_avg_4 = correlation_combination_timepoint(4, verbose=True)"
      ]
    },
    {
      "cell_type": "code",
      "execution_count": null,
      "metadata": {
        "colab": {
          "background_save": true
        },
        "id": "mErX34Sj-nVq",
        "outputId": "4c71f467-21f4-4d08-e744-ec6bd2ef1827"
      },
      "outputs": [
        {
          "name": "stdout",
          "output_type": "stream",
          "text": [
            "R for time point(s) [0, 4, 3, 2, 1]: 0.8994763825921563\n",
            "R^2 for time point(s) [0, 4, 3, 2, 1]: 0.8090577628410712\n",
            "\n",
            "R for time point(s) [0, 5, 3, 2, 1]: 0.9554195418100633\n",
            "R^2 for time point(s) [0, 5, 3, 2, 1]: 0.9128265008725512\n",
            "\n",
            "R for time point(s) [0, 6, 3, 2, 1]: 0.9358080471621998\n",
            "R^2 for time point(s) [0, 6, 3, 2, 1]: 0.87573670113353\n",
            "\n",
            "R for time point(s) [0, 5, 4, 2, 1]: 0.9535360740126191\n",
            "R^2 for time point(s) [0, 5, 4, 2, 1]: 0.909231044443399\n",
            "\n",
            "R for time point(s) [0, 6, 4, 2, 1]: 0.9367303786255821\n",
            "R^2 for time point(s) [0, 6, 4, 2, 1]: 0.8774638022400263\n",
            "\n",
            "R for time point(s) [0, 6, 5, 2, 1]: 0.8402656580519241\n",
            "R^2 for time point(s) [0, 6, 5, 2, 1]: 0.7060463761014331\n",
            "\n",
            "R for time point(s) [0, 5, 4, 3, 1]: 0.9613533066612017\n",
            "R^2 for time point(s) [0, 5, 4, 3, 1]: 0.9242001802284264\n",
            "\n",
            "R for time point(s) [0, 6, 4, 3, 1]: 0.9505389895951488\n",
            "R^2 for time point(s) [0, 6, 4, 3, 1]: 0.9035243707405665\n",
            "\n",
            "R for time point(s) [0, 6, 5, 3, 1]: 0.8370399933849859\n",
            "R^2 for time point(s) [0, 6, 5, 3, 1]: 0.7006359505259373\n",
            "\n",
            "R for time point(s) [0, 6, 5, 4, 1]: 0.8453233362169206\n",
            "R^2 for time point(s) [0, 6, 5, 4, 1]: 0.7145715427529049\n",
            "\n",
            "R for time point(s) [0, 5, 4, 3, 2]: 0.97192932064728\n",
            "R^2 for time point(s) [0, 5, 4, 3, 2]: 0.9446466043338833\n",
            "\n",
            "R for time point(s) [0, 6, 4, 3, 2]: 0.9648105167110659\n",
            "R^2 for time point(s) [0, 6, 4, 3, 2]: 0.9308593331562739\n",
            "\n",
            "R for time point(s) [0, 6, 5, 3, 2]: 0.8566696397894635\n",
            "R^2 for time point(s) [0, 6, 5, 3, 2]: 0.7338828717370092\n",
            "\n",
            "R for time point(s) [0, 6, 5, 4, 2]: 0.8649059934130745\n",
            "R^2 for time point(s) [0, 6, 5, 4, 2]: 0.7480623774418573\n",
            "\n",
            "R for time point(s) [0, 6, 5, 4, 3]: 0.683295694073532\n",
            "R^2 for time point(s) [0, 6, 5, 4, 3]: 0.4668930055394298\n",
            "\n",
            "R for time point(s) [1, 5, 4, 3, 2]: 0.9683147714824267\n",
            "R^2 for time point(s) [1, 5, 4, 3, 2]: 0.9376334966710643\n",
            "\n",
            "R for time point(s) [1, 6, 4, 3, 2]: 0.9590499815972627\n",
            "R^2 for time point(s) [1, 6, 4, 3, 2]: 0.91977686720171\n",
            "\n",
            "R for time point(s) [1, 6, 5, 3, 2]: 0.8477745546030062\n",
            "R^2 for time point(s) [1, 6, 5, 3, 2]: 0.7187216954323256\n",
            "\n",
            "R for time point(s) [1, 6, 5, 4, 2]: 0.8443723765153981\n",
            "R^2 for time point(s) [1, 6, 5, 4, 2]: 0.7129647102222612\n",
            "\n",
            "R for time point(s) [1, 6, 5, 4, 3]: 0.6705651744700531\n",
            "R^2 for time point(s) [1, 6, 5, 4, 3]: 0.4496576532120528\n",
            "\n",
            "R for time point(s) [2, 6, 5, 4, 3]: 0.5727298214693133\n",
            "R^2 for time point(s) [2, 6, 5, 4, 3]: 0.3280194484002715\n",
            "\n",
            "Average R^2: 0.7968845240411027\n"
          ]
        }
      ],
      "source": [
        "r_vals_5, r_avg_5 = correlation_combination_timepoint(5, verbose=True)"
      ]
    },
    {
      "cell_type": "code",
      "execution_count": null,
      "metadata": {
        "colab": {
          "background_save": true
        },
        "id": "BERit2XP-nqy",
        "outputId": "2d575d8c-97bd-48b9-bd8a-e498a9a122a0"
      },
      "outputs": [
        {
          "name": "stdout",
          "output_type": "stream",
          "text": [
            "R for time point(s) [0, 5, 4, 3, 2, 1]: 0.9558439884702782\n",
            "R^2 for time point(s) [0, 5, 4, 3, 2, 1]: 0.9136377302947692\n",
            "\n",
            "R for time point(s) [0, 6, 4, 3, 2, 1]: 0.9608374413072864\n",
            "R^2 for time point(s) [0, 6, 4, 3, 2, 1]: 0.9232085886179331\n",
            "\n",
            "R for time point(s) [0, 6, 5, 3, 2, 1]: 0.8322258468881303\n",
            "R^2 for time point(s) [0, 6, 5, 3, 2, 1]: 0.6925998602286657\n",
            "\n",
            "R for time point(s) [0, 6, 5, 4, 2, 1]: 0.8440849085049805\n",
            "R^2 for time point(s) [0, 6, 5, 4, 2, 1]: 0.7124793327658614\n",
            "\n",
            "R for time point(s) [0, 6, 5, 4, 3, 1]: 0.6711068654100554\n",
            "R^2 for time point(s) [0, 6, 5, 4, 3, 1]: 0.45038442480051016\n",
            "\n",
            "R for time point(s) [0, 6, 5, 4, 3, 2]: 0.5675193383602863\n",
            "R^2 for time point(s) [0, 6, 5, 4, 3, 2]: 0.32207819941289717\n",
            "\n",
            "R for time point(s) [1, 6, 5, 4, 3, 2]: 0.5678929878867336\n",
            "R^2 for time point(s) [1, 6, 5, 4, 3, 2]: 0.32250244569092174\n",
            "\n",
            "Average R^2: 0.6757150136057347\n"
          ]
        }
      ],
      "source": [
        "r_vals_6, r_avg_6 = correlation_combination_timepoint(6, verbose=True)"
      ]
    },
    {
      "cell_type": "code",
      "execution_count": null,
      "metadata": {
        "colab": {
          "background_save": true
        },
        "id": "aTfu9pQyVnhK",
        "outputId": "211d6eee-4704-4158-aa2a-130823248a9c"
      },
      "outputs": [
        {
          "data": {
            "image/png": "[encoded data removed]",
            "text/plain": [
              "<Figure size 640x480 with 1 Axes>"
            ]
          },
          "metadata": {},
          "output_type": "display_data"
        }
      ],
      "source": [
        "plt.title(f\"No. time points shown vs. Average R^2\")\n",
        "plt.plot([1, 2, 3, 4, 5, 6], [r_avg_6, r_avg_5, r_avg_4, r_avg_3, r_avg_2, r_avg_1], color='red')\n",
        "plt.xlabel('No. Shown Time Points')\n",
        "plt.ylabel('Average R^2 for all genes')\n",
        "plt.show()"
      ]
    }
  ],
  "metadata": {
    "colab": {
      "collapsed_sections": [
        "KEeVKIxr83FW",
        "-hQlEDawFT7-",
        "XUuDLbdo1454"
      ],
      "provenance": []
    },
    "kernelspec": {
      "display_name": "Python 3",
      "name": "python3"
    },
    "language_info": {
      "name": "python"
    }
  },
  "nbformat": 4,
  "nbformat_minor": 0
}